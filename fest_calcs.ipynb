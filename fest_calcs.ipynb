{
 "cells": [
  {
   "cell_type": "code",
   "execution_count": 44,
   "metadata": {},
   "outputs": [],
   "source": [
    "from speech import process_fest as pf\n",
    "import os\n",
    "from collections import defaultdict"
   ]
  },
  {
   "cell_type": "code",
   "execution_count": 38,
   "metadata": {},
   "outputs": [],
   "source": [
    "reload(pf)\n",
    "data_dir = 'data/miami/clean_1009'\n",
    "all_data = pf.load_data(data_dir)\n",
    "name_ids_dict = pf.get_style_metrics_miami(all_data)"
   ]
  },
  {
   "cell_type": "code",
   "execution_count": 13,
   "metadata": {
    "scrolled": true
   },
   "outputs": [
    {
     "name": "stdout",
     "output_type": "stream",
     "text": [
      "neither 614\n",
      "maria20_00013 ['ay', 's\\xc3\\xad', 'I', 'feel', 'so', 'bad']\n",
      "maria20_00020 ['co\\xc3\\xb1o', 'thats', 'that', 'diez', 'd\\xc3\\xb3lares', 'na', 'm\\xc3\\xa1s']\n",
      "maria20_00041 ['ay', 'please']\n",
      "maria20_00053 ['el', 'pink']\n",
      "maria20_00059 ['olv\\xc3\\xaddate', 'si', 'tiene', 'como', 'tres', 'trainers']\n",
      "maria20_00079 ['ay', 'please']\n",
      "maria20_00082 ['s\\xc3\\xad', 'un', 'convertible']\n",
      "maria20_00087 ['ay', 'please']\n",
      "maria20_00116 ['ay', 'please']\n",
      "maria27_00076 ['si', 'its', 'like', 'caballero']\n",
      "\n",
      "***\n",
      "\n",
      "s-0 527\n",
      "maria20_00001 ['no', 'pero', 'vino', 'porque', 'he', 'came', 'to', 'check', 'on', 'my', 'machine']\n",
      "maria20_00009 ['no', 'si', '\\xc3\\xa9l', 'me', 'lo', 'dijo', 'el', 'domingo', 'because', 'he', 'went', 'to', 'our', 'our', 'mom', 'my', 'mother', 'in', 'laws', 'house']\n",
      "maria20_00022 ['lo', 'dieron', 'a', 'con', 'charity', 'I', 'hope']\n",
      "maria20_00069 ['le', 'daban', 'toda', 'clase', 'de', 'you', 'know', 'shakes', 'and', 'things', 'to']\n",
      "maria20_00090 ['no', 'porque', 'vive', 'en', 'Lon', 'Island', 'so', 'the', 'public', 'schools', 'are', 'probably', 'good']\n",
      "maria20_00153 ['se', 'le', 'pintan', 'las', 'u\\xc3\\xb1as', 'like', 'each', 'of', 'them', 'have', 'a', 'different', 'colored', 'nail', 'painted', 'so', 'they', 'can', 'tell', 'them', 'apart', 'because', 'theyre', 'identical', 'laughs']\n",
      "maria20_00167 ['oye', 'gracias', 'Katie', 'te', 'lo', 'agradezco', 'because', 'I', 'hate', 'that', 'one']\n",
      "maria20_00180 ['ay', 'porque', 'es', 'la', 'Julia', 'I', 'know', 'I', 'know']\n",
      "maria27_00098 ['ah\\xc3\\xad', 'a', 'los', 'quince', 'minutos', 'has', 'two', 'bowls', 'of', 'cereal']\n",
      "maria27_00099 ['con', 'at', 'least', 'is', 'fat', 'free', 'milk']\n",
      "\n",
      "***\n",
      "\n",
      "s-1 409\n",
      "maria20_00066 ['I', 'mean', 'like', 'dos', 'goticas', 'de', 'nada']\n",
      "maria20_00111 ['they', 'look', 'normal', 'Jackie', 'por', 'favor']\n",
      "maria20_00163 ['why', 'do', 'they', 'el', 'su\\xc3\\xa9ter', 'de', 'Ramona']\n",
      "maria27_00399 ['and', 'this', 'is', 'este', 'es', 'pariente', 'lo', 'mismo']\n",
      "maria27_00407 ['so', 'aqu\\xc3\\xad', 'no', 'va', 'a', 'haber', 'nada']\n",
      "maria24_00086 ['something', 'that', 'you', 'need', 'me', 'to', 'find', 'to', 'for', 'you', 'o', 'no']\n",
      "maria24_00428 ['I', 'guess', 'ayer', 'se', 'fue', 'de', 'aqu\\xc3\\xad']\n",
      "maria24_00432 ['I', 'have', 'been', 'una', 'de', 'las', 'primeras', 'que', 'he', 'venido']\n",
      "herring7_00043 ['ah', 'its', 'like', 'like', 'you', 'know', 'como', 'que', 'te', 'enfocan', 'que', 'se', 'se', 'fue', 'como', 'que', 'se', 'va', 'yendo', 'as\\xc3\\xad', 'you', 'know']\n",
      "herring7_00044 ['but', 'in', 'the', 'book', 'there', 'is', 'a', 'girl', 'that', 'betrayed', 'him', 'que', 'se', 'hace', 'pasar', 'por', 'humano']\n",
      "\n",
      "***\n",
      "\n",
      "c-1 373\n",
      "maria20_00014 ['poor', 'Katie', 'and', 'Rosa', 'and', 'you', 'know']\n",
      "maria20_00025 ['d\\xc3\\xa9jame', 'but', 'mumbles']\n",
      "maria20_00065 ['they', 'didnt', 'er', 'no', 'produc\\xc3\\xada']\n",
      "maria20_00078 ['gifts', 'from', 'pals', 'Eva', 'Longoria', 'and', 'hairstylist', 'Ken', 'Paves', 'reads']\n",
      "maria20_00098 ['it', 'it', 'is', 'a', 'showing', 'off', 'coche']\n",
      "maria20_00138 ['in', 'fact', 'I', 'was', 'watching', 'las', 'noticias']\n",
      "maria27_00087 ['oye', 'youre', 'gonna', 'study']\n",
      "maria27_00107 ['comiendo', 'two', 'bowls', 'of', 'cereal', 'todas', 'las', 'noches', 'those', 'six', 'pounds', 'you', 'just', 'lost']\n",
      "maria27_00255 ['chica', 'you', 'know', 'what']\n",
      "maria27_00296 ['el', 'desayuno', 'I', 'dont', 'care']\n",
      "\n",
      "***\n",
      "\n",
      "c-0 973\n",
      "maria21_00026 ['mm', 'del', 'el', 'art\\xc3\\xadculo', 'ese', 'que', 't\\xc3\\xba', 'hab\\xc3\\xadas', 'encontrado']\n",
      "maria21_00040 ['bueno', 'no', 'me', 'hab\\xc3\\xadan', 'dicho', 'que', 'si', 'es', 'turn_light', 'ya', 'tiene', 'm\\xc3\\xa1s', 'de', 'setenta', 'y', 'cinco', 'no', 'tiene', 'valor']\n",
      "maria21_00043 ['y', 'le', 'ven', 'un', 'life', 'expectancy', 'report']\n",
      "maria21_00052 ['ellos', 'se', 'llaman', 'es', 'un', 'brokers']\n",
      "maria21_00061 ['bueno', 'lo', 'que', '\\xc3\\xa9l', 'tiene', 'es', 'un', 'certificate', 'specification', 'que', 'la', 'compa\\xc3\\xb1\\xc3\\xada', 'se', 'lo', 'ha', 'comprado', 'con', 'la', 'I_T_T']\n",
      "maria21_00074 ['exacto', 'treinta', 'd\\xc3\\xadas', 'a', 'a', 'cuando', 'es', 'due', 'o', 'sea']\n",
      "maria21_00079 ['bueno', 'el', 'effective', 'date', 'es', 'julio']\n",
      "maria21_00080 ['mira', 'aqu\\xc3\\xad', 'el', 'effective', 'date', 'de', 'tu', 'p\\xc3\\xb3liza', 'es', 'julio', 'del', 'ochenta', 'y', 'cinco']\n",
      "maria21_00088 ['uhhuh', 'me', 'dice']\n",
      "maria21_00092 ['le', 'hacen', 'a', 'tu', 'pap\\xc3\\xa1', 'un', 'life', 'expectancy', 'report']\n",
      "\n",
      "***\n",
      "\n"
     ]
    }
   ],
   "source": [
    "for name in name_ids_dict['txt']:\n",
    "    print name, len(name_ids_dict['txt'][name])\n",
    "    for i, wordlist in enumerate(name_ids_dict['txt'][name][:10]):\n",
    "        print name_ids_dict['ids'][name][i], wordlist\n",
    "    print '\\n***\\n'"
   ]
  },
  {
   "cell_type": "code",
   "execution_count": 22,
   "metadata": {},
   "outputs": [
    {
     "name": "stdout",
     "output_type": "stream",
     "text": [
      "2896\n"
     ]
    }
   ],
   "source": [
    "cm_uttids = []\n",
    "for name in name_ids_dict['ids']:\n",
    "    cm_uttids.extend(name_ids_dict['ids'][name])\n",
    "print len(cm_uttids)"
   ]
  },
  {
   "cell_type": "code",
   "execution_count": 26,
   "metadata": {},
   "outputs": [],
   "source": [
    "# write 2896 CM utt ids into file\n",
    "# with open('speech/cmutts.ids', 'w') as f:\n",
    "#     for line in cm_uttids:\n",
    "#         f.write(line + '\\n')"
   ]
  },
  {
   "cell_type": "code",
   "execution_count": 74,
   "metadata": {},
   "outputs": [
    {
     "name": "stdout",
     "output_type": "stream",
     "text": [
      "2896\n"
     ]
    }
   ],
   "source": [
    "reload(pf)\n",
    "cm_uttids = pf.get_all_cm_uttids(name_ids_dict)\n",
    "dur_dir = 'speech/dur'\n",
    "dur_dicts = pf.get_dur_dict(dur_dir, cm_uttids)"
   ]
  },
  {
   "cell_type": "code",
   "execution_count": 75,
   "metadata": {
    "scrolled": true
   },
   "outputs": [
    {
     "data": {
      "text/plain": [
       "{'dur': [0.0099999998,\n",
       "  0.015000000200000002,\n",
       "  0.065000004,\n",
       "  0.04999999600000002,\n",
       "  0.014999999999999986,\n",
       "  0.13999999,\n",
       "  0.13000002,\n",
       "  0.14499998000000003,\n",
       "  0.31499999999999995,\n",
       "  0.014999990000000074,\n",
       "  0.015000039999999992,\n",
       "  0.13499998000000002,\n",
       "  0.24499999999999988,\n",
       "  0.020000100000000076,\n",
       "  0.014999900000000066,\n",
       "  0.014999999999999902,\n",
       "  0.375,\n",
       "  0.06000000000000005,\n",
       "  0.014999999999999902,\n",
       "  0.125,\n",
       "  0.09500010000000003,\n",
       "  0.010000000000000231],\n",
       " 'phon': ['pau',\n",
       "  'b',\n",
       "  'ah',\n",
       "  't',\n",
       "  'dh',\n",
       "  'ey',\n",
       "  's',\n",
       "  'ow',\n",
       "  'l',\n",
       "  'd',\n",
       "  'dh',\n",
       "  'eh',\n",
       "  'r',\n",
       "  'hh',\n",
       "  'aw',\n",
       "  's',\n",
       "  'v',\n",
       "  'er',\n",
       "  'd',\n",
       "  'ae',\n",
       "  'd',\n",
       "  'pau'],\n",
       " 'wd': ['0',\n",
       "  'but',\n",
       "  'but',\n",
       "  'but',\n",
       "  'they',\n",
       "  'they',\n",
       "  'sold',\n",
       "  'sold',\n",
       "  'sold',\n",
       "  'sold',\n",
       "  'their',\n",
       "  'their',\n",
       "  'their',\n",
       "  'house',\n",
       "  'house',\n",
       "  'house',\n",
       "  'verdad',\n",
       "  'verdad',\n",
       "  'verdad',\n",
       "  'verdad',\n",
       "  'verdad',\n",
       "  '0']}"
      ]
     },
     "execution_count": 75,
     "metadata": {},
     "output_type": "execute_result"
    }
   ],
   "source": [
    "dur_dicts['herring1_00106']"
   ]
  },
  {
   "cell_type": "code",
   "execution_count": 76,
   "metadata": {},
   "outputs": [
    {
     "name": "stdout",
     "output_type": "stream",
     "text": [
      "neither\n",
      "38\n",
      "s-0\n",
      "40\n",
      "s-1\n",
      "28\n",
      "c-1\n",
      "19\n",
      "c-0\n",
      "56\n"
     ]
    }
   ],
   "source": [
    "reload(pf)\n",
    "engvow_phon_dur = pf.get_eng_vowel_dur(name_ids_dict, dur_dicts)"
   ]
  },
  {
   "cell_type": "code",
   "execution_count": 77,
   "metadata": {
    "scrolled": true
   },
   "outputs": [
    {
     "name": "stdout",
     "output_type": "stream",
     "text": [
      "neither\n",
      "iy 14\n",
      "aa 4\n",
      "ae 12\n",
      "eh 16\n",
      "oy 1\n",
      "ah 8\n",
      "uw 9\n",
      "ao 5\n",
      "ih 9\n",
      "ay 6\n",
      "ey 9\n",
      "uh 1\n",
      "aw 1\n",
      "ow 11\n",
      "er 5\n",
      "c-0\n",
      "aa 16\n",
      "iy 13\n",
      "ae 12\n",
      "eh 14\n",
      "ah 7\n",
      "uw 3\n",
      "ow 13\n",
      "ao 7\n",
      "ih 19\n",
      "aw 3\n",
      "ey 7\n",
      "uh 2\n",
      "oy 2\n",
      "ay 11\n",
      "er 13\n",
      "c-1\n",
      "iy 12\n",
      "aa 15\n",
      "ae 15\n",
      "eh 4\n",
      "ah 5\n",
      "uw 6\n",
      "ow 11\n",
      "ao 5\n",
      "ih 30\n",
      "ey 9\n",
      "uh 5\n",
      "aw 2\n",
      "ay 12\n",
      "er 3\n",
      "s-1\n",
      "iy 18\n",
      "aa 13\n",
      "ae 22\n",
      "eh 13\n",
      "ah 15\n",
      "uw 12\n",
      "ao 11\n",
      "ih 27\n",
      "ay 14\n",
      "ey 8\n",
      "uh 2\n",
      "aw 2\n",
      "ow 12\n",
      "er 5\n",
      "s-0\n",
      "aa 21\n",
      "iy 29\n",
      "ae 26\n",
      "eh 32\n",
      "ah 28\n",
      "uw 12\n",
      "ow 18\n",
      "ao 20\n",
      "ih 65\n",
      "aw 6\n",
      "ey 11\n",
      "uh 2\n",
      "oy 1\n",
      "ay 27\n",
      "er 17\n"
     ]
    }
   ],
   "source": [
    "# visualize engvow_phon_dur dict\n",
    "for strat, strat_dict in engvow_phon_dur.iteritems():\n",
    "    print strat\n",
    "    for vow, durlist in strat_dict.iteritems():\n",
    "        print vow, len(durlist)"
   ]
  },
  {
   "cell_type": "code",
   "execution_count": 83,
   "metadata": {},
   "outputs": [
    {
     "name": "stdout",
     "output_type": "stream",
     "text": [
      "['aa', 'ae', 'ah', 'ao', 'aw', 'ay', 'eh', 'er', 'ey', 'ih', 'iy', 'ow', 'oy', 'uh', 'uw']\n",
      "15\n"
     ]
    }
   ],
   "source": [
    "reload(pf)\n",
    "eng_vowels = pf.get_sorted_eng_vowels_only(engvow_phon_dur)\n",
    "print len(eng_vowels)"
   ]
  },
  {
   "cell_type": "code",
   "execution_count": 84,
   "metadata": {},
   "outputs": [
    {
     "name": "stdout",
     "output_type": "stream",
     "text": [
      "neither\n",
      "c-0\n",
      "c-1\n",
      "s-1\n",
      "s-0\n",
      "aa\t0.1237500125\t0.09124998\t0.0750000133333\t0.0803846692308\t0.064999982381\n",
      "ae\t0.0795833358333\t0.109583308333\t0.0589999833333\t0.100681828145\t0.0621153969231\n",
      "ah\t0.04875\t0.0378571422857\t0.0510000006\t0.0523333533333\t0.0583929178571\n",
      "ao\t0.106000008\t0.0857142828571\t0.02499998\t0.0445453881818\t0.054749977\n",
      "aw\t0.01499999\t0.0350000333333\t0.01499994\t0.01499999\t0.0150000266667\n",
      "ay\t0.0333333416667\t0.223181813636\t0.0766666933333\t0.0903571447143\t0.127222204815\n",
      "eh\t0.1028125025\t0.06392858\t0.0949999825\t0.0992308207692\t0.08328121875\n",
      "er\t0.01499999\t0.108461516923\t0.15333332\t0.09\t0.0505882211765\n",
      "ey\t0.0466666766667\t0.0828571285714\t0.0916666766667\t0.15374999625\t0.095454526\n",
      "ih\t0.0466666788889\t0.0647368226316\t0.0979999846333\t0.0794444473037\t0.0707692167692\n",
      "iy\t0.0839285478571\t0.0673076507692\t0.0879166833333\t0.106111138389\t0.0779310582759\n",
      "ow\t0.0577272918182\t0.0996153523077\t0.067727271\t0.10500000175\t0.0755555416667\n",
      "oy\t0.015\t0.0525\t\t\t0.0250001\n",
      "uh\t0.0799999\t0.0150001\t0.177000006\t0.017500015\t0.08999995\n",
      "uw\t0.0938888511111\t0.0149999866667\t0.116666666833\t0.0737499613333\t0.0474999983333\n"
     ]
    }
   ],
   "source": [
    "reload(pf)\n",
    "pf.print_dur_dict(engvow_phon_dur, eng_vowels)"
   ]
  },
  {
   "cell_type": "markdown",
   "metadata": {},
   "source": [
    "* TODO: get diff in timestamps for actual duration\n"
   ]
  }
 ],
 "metadata": {
  "kernelspec": {
   "display_name": "Python 2",
   "language": "python",
   "name": "python2"
  },
  "language_info": {
   "codemirror_mode": {
    "name": "ipython",
    "version": 2
   },
   "file_extension": ".py",
   "mimetype": "text/x-python",
   "name": "python",
   "nbconvert_exporter": "python",
   "pygments_lexer": "ipython2",
   "version": "2.7.10"
  }
 },
 "nbformat": 4,
 "nbformat_minor": 2
}
