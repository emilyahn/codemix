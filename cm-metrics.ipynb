{
 "cells": [
  {
   "cell_type": "code",
   "execution_count": 30,
   "metadata": {},
   "outputs": [],
   "source": [
    "from src.parse_miami import load_data, load_spkr_info\n",
    "\n",
    "data_folder_path = \"./data/miami/txt/\" # sys.argv[1]\n",
    "spkr_tsv = './data/spkr_info_1017.tsv' # sys.argv[2]\n",
    "\n",
    "all_data = load_data(data_folder_path)\n",
    "spkr_info = load_spkr_info(spkr_tsv)"
   ]
  },
  {
   "cell_type": "markdown",
   "metadata": {},
   "source": [
    "## grab only utterances that have mixed speech"
   ]
  },
  {
   "cell_type": "code",
   "execution_count": 31,
   "metadata": {},
   "outputs": [
    {
     "name": "stdout",
     "output_type": "stream",
     "text": [
      "['so_eng', 'le_spa', 'yo_spa', 'le_spa', 'digo_spa', 'a_spa', 'la_spa', 'chica_eng', 'a_spa', 'la_spa', 'waitress_eng']\n",
      "[1, 0, 0, 0, 0, 0, 0, 1, 0, 0, 1]\n"
     ]
    }
   ],
   "source": [
    "print all_data['zeledon8']['MAR']['words'][0]\n",
    "print all_data['zeledon8']['MAR']['words_01'][0]"
   ]
  },
  {
   "cell_type": "code",
   "execution_count": 40,
   "metadata": {},
   "outputs": [
    {
     "name": "stdout",
     "output_type": "stream",
     "text": [
      "after the\n",
      "ADJ\n",
      "vejestorio\n",
      "ADJ\n",
      "place\n",
      "ADJ\n",
      "so\n",
      "ADJ\n",
      "le yo le digo a la\n",
      "ADJ\n",
      "chica\n",
      "ADJ\n",
      "a la\n",
      "ADJ\n",
      "waitress\n",
      "ADJ\n"
     ]
    }
   ],
   "source": [
    "# from src.cm_metrics import get_style_metrics\n",
    "from src import cm_metrics\n",
    "reload(cm_metrics)\n",
    "cm_metrics.get_style_metrics(all_data, 'zeledon8')"
   ]
  },
  {
   "cell_type": "code",
   "execution_count": 42,
   "metadata": {},
   "outputs": [
    {
     "name": "stdout",
     "output_type": "stream",
     "text": [
      "PRON\n",
      "VERB\n",
      "DET\n",
      "NOUN\n",
      "ADP\n",
      "DET\n",
      "NOUN\n"
     ]
    }
   ],
   "source": [
    "import spacy\n",
    "\n",
    "nlp_en = spacy.load('en')\n",
    "doc = nlp_en(unicode('i like the waitress at this restaurant', \"utf-8\"))\n",
    "for token in doc:\n",
    "\tprint token.pos_"
   ]
  },
  {
   "cell_type": "code",
   "execution_count": null,
   "metadata": {},
   "outputs": [],
   "source": []
  }
 ],
 "metadata": {
  "kernelspec": {
   "display_name": "Python 2",
   "language": "python",
   "name": "python2"
  },
  "language_info": {
   "codemirror_mode": {
    "name": "ipython",
    "version": 2
   },
   "file_extension": ".py",
   "mimetype": "text/x-python",
   "name": "python",
   "nbconvert_exporter": "python",
   "pygments_lexer": "ipython2",
   "version": "2.7.10"
  }
 },
 "nbformat": 4,
 "nbformat_minor": 2
}
