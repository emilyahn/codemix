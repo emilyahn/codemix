{
 "cells": [
  {
   "cell_type": "code",
   "execution_count": 18,
   "metadata": {},
   "outputs": [],
   "source": [
    "# from src.parse_miami import load_data, load_spkr_info\n",
    "from src import parse_miami\n",
    "reload(parse_miami)\n",
    "data_folder_path = \"./data/miami/txt/\" # sys.argv[1]\n",
    "spkr_tsv = './data/spkr_info_1017.tsv' # sys.argv[2]\n",
    "\n",
    "all_data = parse_miami.load_data(data_folder_path)\n",
    "spkr_info = parse_miami.load_spkr_info(spkr_tsv)"
   ]
  },
  {
   "cell_type": "markdown",
   "metadata": {},
   "source": [
    "## grab only utterances that have mixed speech"
   ]
  },
  {
   "cell_type": "code",
   "execution_count": 19,
   "metadata": {
    "scrolled": true
   },
   "outputs": [
    {
     "name": "stdout",
     "output_type": "stream",
     "text": [
      "['so_eng', 'le_spa', 'yo_spa', 'le_spa', 'digo_spa', 'a_spa', 'la_spa', 'chica_eng', 'a_spa', 'la_spa', 'waitress_eng']\n",
      "[1, 0, 0, 0, 0, 0, 0, 1, 0, 0, 1]\n"
     ]
    }
   ],
   "source": [
    "print all_data['zeledon8']['MAR']['words'][0]\n",
    "print all_data['zeledon8']['MAR']['words_01'][0]"
   ]
  },
  {
   "cell_type": "code",
   "execution_count": 22,
   "metadata": {
    "scrolled": true
   },
   "outputs": [
    {
     "name": "stdout",
     "output_type": "stream",
     "text": [
      "after the vejestorio place\n",
      "1: after\n",
      "S-POS\tVERB\tE-POS\tADP\n",
      "S-AUX\t0\tE-AUX\t1\n",
      "S-CON\t1\tE-CON\t0\n",
      "\n",
      "1: the\n",
      "S-POS\tDET\tE-POS\tDET\n",
      "S-AUX\t1\tE-AUX\t1\n",
      "S-CON\t0\tE-CON\t0\n",
      "\n",
      "0: vejestorio\n",
      "S-POS\tADJ\tE-POS\tNOUN\n",
      "S-AUX\t0\tE-AUX\t0\n",
      "S-CON\t1\tE-CON\t1\n",
      "\n",
      "1: place\n",
      "S-POS\tVERB\tE-POS\tNOUN\n",
      "S-AUX\t0\tE-AUX\t0\n",
      "S-CON\t1\tE-CON\t1\n",
      "\n",
      "so le yo le digo a la chica a la waitress\n",
      "1: so\n",
      "S-POS\tPRON\tE-POS\tCCONJ\n",
      "S-AUX\t0\tE-AUX\t1\n",
      "S-CON\t0\tE-CON\t0\n",
      "\n",
      "0: le\n",
      "S-POS\tPRON\tE-POS\tX\n",
      "S-AUX\t0\tE-AUX\t0\n",
      "S-CON\t0\tE-CON\t0\n",
      "\n",
      "0: yo\n",
      "S-POS\tPRON\tE-POS\tX\n",
      "S-AUX\t0\tE-AUX\t0\n",
      "S-CON\t0\tE-CON\t0\n",
      "\n",
      "0: le\n",
      "S-POS\tPRON\tE-POS\tX\n",
      "S-AUX\t0\tE-AUX\t0\n",
      "S-CON\t0\tE-CON\t0\n",
      "\n",
      "0: digo\n",
      "S-POS\tVERB\tE-POS\tNOUN\n",
      "S-AUX\t0\tE-AUX\t0\n",
      "S-CON\t1\tE-CON\t1\n",
      "\n",
      "0: a\n",
      "S-POS\tADP\tE-POS\tDET\n",
      "S-AUX\t1\tE-AUX\t1\n",
      "S-CON\t0\tE-CON\t0\n",
      "\n",
      "0: la\n",
      "S-POS\tDET\tE-POS\tX\n",
      "S-AUX\t1\tE-AUX\t0\n",
      "S-CON\t0\tE-CON\t0\n",
      "\n",
      "1: chica\n",
      "S-POS\tNOUN\tE-POS\tNOUN\n",
      "S-AUX\t0\tE-AUX\t0\n",
      "S-CON\t1\tE-CON\t1\n",
      "\n",
      "0: a\n",
      "S-POS\tADP\tE-POS\tDET\n",
      "S-AUX\t1\tE-AUX\t1\n",
      "S-CON\t0\tE-CON\t0\n",
      "\n",
      "0: la\n",
      "S-POS\tDET\tE-POS\tX\n",
      "S-AUX\t1\tE-AUX\t0\n",
      "S-CON\t0\tE-CON\t0\n",
      "\n",
      "1: waitress\n",
      "S-POS\tNOUN\tE-POS\tNOUN\n",
      "S-AUX\t0\tE-AUX\t0\n",
      "S-CON\t1\tE-CON\t1\n",
      "\n"
     ]
    }
   ],
   "source": [
    "# from src.cm_metrics import get_style_metrics\n",
    "from src import cm_metrics\n",
    "reload(cm_metrics)\n",
    "cm_metrics.get_style_metrics(all_data, 'zeledon8')"
   ]
  },
  {
   "cell_type": "markdown",
   "metadata": {},
   "source": [
    "## Scratch space"
   ]
  },
  {
   "cell_type": "code",
   "execution_count": null,
   "metadata": {
    "scrolled": true
   },
   "outputs": [],
   "source": [
    "for chunk in all_data['zeledon7']['NAT']['words'][:40]:\n",
    "    print chunk\n",
    "# print all_data['zeledon8']['MAR']['words_01'][0]"
   ]
  },
  {
   "cell_type": "code",
   "execution_count": 17,
   "metadata": {},
   "outputs": [
    {
     "name": "stdout",
     "output_type": "stream",
     "text": [
      "PROPN\n",
      "VERB\n",
      "X\n",
      "NOUN\n",
      "*****\n",
      "DET\n",
      "NOUN\n",
      "AUX\n",
      "ADJ\n"
     ]
    }
   ],
   "source": [
    "import spacy\n",
    "\n",
    "nlp_en = spacy.load('en')\n",
    "nlp_sp = spacy.load('es')\n",
    "\n",
    "# words = 'es era nunca fuera fuese haber'\n",
    "# words = 'i might\"ve guessed we had done what we could'\n",
    "# words = 'so le yo le digo a la chica a la waitress'\n",
    "# words = 'i don\"t know what to do about el coche rojo'\n",
    "words = 'Mi padre es ingeniero'\n",
    "doc = nlp_en(unicode(words, \"utf-8\"))\n",
    "for token in doc:\n",
    "\tprint token.pos_\n",
    "print \"*****\"\n",
    "doc = nlp_sp(unicode(words, \"utf-8\"))\n",
    "for token in doc:\n",
    "\tprint token.pos_"
   ]
  },
  {
   "cell_type": "code",
   "execution_count": null,
   "metadata": {},
   "outputs": [],
   "source": []
  }
 ],
 "metadata": {
  "kernelspec": {
   "display_name": "Python 2",
   "language": "python",
   "name": "python2"
  },
  "language_info": {
   "codemirror_mode": {
    "name": "ipython",
    "version": 2
   },
   "file_extension": ".py",
   "mimetype": "text/x-python",
   "name": "python",
   "nbconvert_exporter": "python",
   "pygments_lexer": "ipython2",
   "version": "2.7.10"
  }
 },
 "nbformat": 4,
 "nbformat_minor": 2
}
