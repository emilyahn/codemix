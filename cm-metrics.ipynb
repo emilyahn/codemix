{
 "cells": [
  {
   "cell_type": "code",
   "execution_count": 1,
   "metadata": {},
   "outputs": [],
   "source": [
    "# from src.parse_miami import load_data, load_spkr_info\n",
    "from src import parse_miami\n",
    "reload(parse_miami)\n",
    "data_folder_path = \"./data/miami/txt/\" # sys.argv[1]\n",
    "spkr_tsv = './data/spkr_info_1017.tsv' # sys.argv[2]"
   ]
  },
  {
   "cell_type": "markdown",
   "metadata": {},
   "source": [
    "# Miami"
   ]
  },
  {
   "cell_type": "code",
   "execution_count": 2,
   "metadata": {},
   "outputs": [],
   "source": [
    "miami_data = parse_miami.load_data(data_folder_path)\n",
    "spkr_info = parse_miami.load_spkr_info(spkr_tsv)"
   ]
  },
  {
   "cell_type": "markdown",
   "metadata": {},
   "source": [
    "## grab only utterances that have mixed speech"
   ]
  },
  {
   "cell_type": "code",
   "execution_count": 3,
   "metadata": {
    "scrolled": true
   },
   "outputs": [
    {
     "name": "stdout",
     "output_type": "stream",
     "text": [
      "herring7\tnum CM utt: 53\n",
      "zeledon8\tnum CM utt: 111\n",
      "herring9\tnum CM utt: 12\n",
      "herring8\tnum CM utt: 24\n",
      "zeledon5\tnum CM utt: 64\n",
      "zeledon4\tnum CM utt: 44\n",
      "zeledon3\tnum CM utt: 17\n",
      "zeledon2\tnum CM utt: 2\n",
      "zeledon1\tnum CM utt: 40\n",
      "herring1\tnum CM utt: 44\n",
      "herring3\tnum CM utt: 63\n",
      "herring2\tnum CM utt: 50\n",
      "herring5\tnum CM utt: 23\n",
      "zeledon9\tnum CM utt: 49\n",
      "herring6\tnum CM utt: 49\n",
      "zeledon13\tnum CM utt: 10\n",
      "zeledon11\tnum CM utt: 29\n",
      "zeledon14\tnum CM utt: 127\n",
      "zeledon7\tnum CM utt: 91\n",
      "zeledon6\tnum CM utt: 112\n",
      "sastre11\tnum CM utt: 72\n",
      "sastre10\tnum CM utt: 83\n",
      "sastre13\tnum CM utt: 0\n",
      "sastre12\tnum CM utt: 71\n",
      "herring11\tnum CM utt: 16\n",
      "herring10\tnum CM utt: 75\n",
      "herring13\tnum CM utt: 94\n",
      "herring12\tnum CM utt: 73\n",
      "herring15\tnum CM utt: 4\n",
      "herring14\tnum CM utt: 70\n",
      "herring17\tnum CM utt: 62\n",
      "herring16\tnum CM utt: 45\n",
      "sastre1\tnum CM utt: 119\n",
      "sastre2\tnum CM utt: 81\n",
      "sastre5\tnum CM utt: 25\n",
      "sastre4\tnum CM utt: 63\n",
      "sastre7\tnum CM utt: 21\n",
      "sastre6\tnum CM utt: 81\n",
      "sastre9\tnum CM utt: 162\n",
      "sastre8\tnum CM utt: 110\n",
      "c-0-s\t18.41\n",
      "c-0-w\t13.24\n",
      "c-1-s\t4.23\n",
      "c-1-w\t9.10\n",
      "neither\t21.06\n",
      "s-0\t18.58\n",
      "s-1\t15.38\n"
     ]
    }
   ],
   "source": [
    "from src import cm_metrics\n",
    "reload(cm_metrics)\n",
    "miami_dict = cm_metrics.get_style_metrics_miami(miami_data)"
   ]
  },
  {
   "cell_type": "code",
   "execution_count": 32,
   "metadata": {},
   "outputs": [],
   "source": [
    "import re\n",
    "from collections import defaultdict\n",
    "\n",
    "def calc_keyword(keywords, corpus):\n",
    "    num_keywords = defaultdict(int)\n",
    "    keywords_styles = {}\n",
    "\n",
    "    for style, uttlist in corpus.iteritems():\n",
    "        style = style[:3]\n",
    "        keywords_styles[style] = defaultdict(int)\n",
    "        for utt in uttlist:\n",
    "            for keyword in keywords:\n",
    "                regex = re.compile(r'\\b' + keyword + r'\\b')\n",
    "                if bool(re.search(regex, utt)):\n",
    "                    num_keywords[keyword] += 1\n",
    "                    keywords_styles[style][keyword] += 1\n",
    "                    \n",
    "    return keywords_styles, num_keywords\n",
    "            \n",
    "#     print float(num_keywords) / all_utts\n",
    "    \n",
    "key_list = ['ay', 'ok', 'pues', 'yeah', 'oh', 'oye', 'so', 'este', 'ah', 'nah']\n",
    "m_keywords_styles, m_num_keywords = calc_keyword(key_list, miami_dict)"
   ]
  },
  {
   "cell_type": "markdown",
   "metadata": {},
   "source": [
    "# Twitter"
   ]
  },
  {
   "cell_type": "code",
   "execution_count": null,
   "metadata": {},
   "outputs": [],
   "source": [
    "from src import cm_metrics\n",
    "reload(cm_metrics)\n",
    "\n",
    "twitter_all = cm_metrics.parse_twitter(\"./data/lid_2016/train-dev-test.tsv\")\n",
    "twitter_style_dict = cm_metrics.get_style_metrics_twitter(twitter_all)"
   ]
  },
  {
   "cell_type": "code",
   "execution_count": 35,
   "metadata": {},
   "outputs": [],
   "source": [
    "t_keywords_styles, t_num_keywords = calc_keyword(key_list, twit_style_dict)"
   ]
  },
  {
   "cell_type": "code",
   "execution_count": 43,
   "metadata": {},
   "outputs": [
    {
     "name": "stdout",
     "output_type": "stream",
     "text": [
      "*******\n",
      "ay\n",
      "*******\n",
      "nei\t27\t69.23\t&&\t9\t16.98\n",
      "c-0\t3\t7.69\t&&\t5\t9.43\n",
      "c-1\t3\t7.69\t&&\t2\t3.77\n",
      "s-1\t1\t2.56\t&&\t12\t22.64\n",
      "s-0\t2\t5.13\t&&\t9\t16.98\n",
      "*******\n",
      "ok\n",
      "*******\n",
      "nei\t8\t47.06\t&&\t32\t50.79\n",
      "c-0\t2\t11.76\t&&\t1\t1.59\n",
      "c-1\t1\t5.88\t&&\t4\t6.35\n",
      "s-1\t2\t11.76\t&&\t7\t11.11\n",
      "s-0\t2\t11.76\t&&\t7\t11.11\n",
      "*******\n",
      "pues\n",
      "*******\n",
      "nei\t10\t23.26\t&&\t16\t22.86\n",
      "c-0\t2\t4.65\t&&\t8\t11.43\n",
      "c-1\t0\t0.0\t&&\t2\t2.86\n",
      "s-1\t4\t9.3\t&&\t5\t7.14\n",
      "s-0\t11\t25.58\t&&\t10\t14.29\n",
      "*******\n",
      "yeah\n",
      "*******\n",
      "nei\t43\t46.74\t&&\t10\t31.25\n",
      "c-0\t13\t14.13\t&&\t2\t6.25\n",
      "c-1\t11\t11.96\t&&\t9\t28.13\n",
      "s-1\t14\t15.22\t&&\t5\t15.63\n",
      "s-0\t6\t6.52\t&&\t1\t3.13\n",
      "*******\n",
      "oh\n",
      "*******\n",
      "nei\t11\t22.45\t&&\t10\t23.26\n",
      "c-0\t12\t24.49\t&&\t2\t4.65\n",
      "c-1\t6\t12.24\t&&\t8\t18.6\n",
      "s-1\t7\t14.29\t&&\t8\t18.6\n",
      "s-0\t5\t10.2\t&&\t7\t16.28\n",
      "*******\n",
      "oye\n",
      "*******\n",
      "nei\t1\t6.25\t&&\t0\t0.0\n",
      "c-0\t1\t6.25\t&&\t2\t50.0\n",
      "c-1\t7\t43.75\t&&\t0\t0.0\n",
      "s-1\t0\t0.0\t&&\t0\t0.0\n",
      "s-0\t3\t18.75\t&&\t0\t0.0\n",
      "*******\n",
      "so\n",
      "*******\n",
      "nei\t27\t21.26\t&&\t57\t18.39\n",
      "c-0\t13\t10.24\t&&\t22\t7.1\n",
      "c-1\t18\t14.17\t&&\t65\t20.97\n",
      "s-1\t39\t30.71\t&&\t64\t20.65\n",
      "s-0\t24\t18.9\t&&\t69\t22.26\n",
      "*******\n",
      "este\n",
      "*******\n",
      "nei\t9\t36.0\t&&\t30\t14.56\n",
      "c-0\t3\t12.0\t&&\t32\t15.53\n",
      "c-1\t0\t0.0\t&&\t1\t0.49\n",
      "s-1\t7\t28.0\t&&\t13\t6.31\n",
      "s-0\t2\t8.0\t&&\t21\t10.19\n",
      "*******\n",
      "ah\n",
      "*******\n",
      "nei\t25\t26.32\t&&\t8\t23.53\n",
      "c-0\t13\t13.68\t&&\t4\t11.76\n",
      "c-1\t8\t8.42\t&&\t0\t0.0\n",
      "s-1\t18\t18.95\t&&\t2\t5.88\n",
      "s-0\t15\t15.79\t&&\t6\t17.65\n",
      "*******\n",
      "nah\n",
      "*******\n",
      "nei\t1\t100.0\t&&\t2\t14.29\n",
      "c-0\t0\t0.0\t&&\t1\t7.14\n",
      "c-1\t0\t0.0\t&&\t4\t28.57\n",
      "s-1\t0\t0.0\t&&\t1\t7.14\n",
      "s-0\t0\t0.0\t&&\t3\t21.43\n"
     ]
    }
   ],
   "source": [
    "for keyword in key_list:\n",
    "    print '*******'\n",
    "    print keyword\n",
    "    print '*******'\n",
    "    for style in m_keywords_styles.keys():\n",
    "        m_count = m_keywords_styles[style][keyword]\n",
    "        m_ratio = float(m_count) * 100 / m_num_keywords[keyword]\n",
    "        t_count = t_keywords_styles[style][keyword]\n",
    "        t_ratio = float(t_count) * 100 / t_num_keywords[keyword]\n",
    "        print '{}\\t{}\\t{}\\t&&\\t{}\\t{}'.format(style, m_count, round(m_ratio,2), t_count, round(t_ratio,2))"
   ]
  },
  {
   "cell_type": "code",
   "execution_count": null,
   "metadata": {},
   "outputs": [],
   "source": []
  },
  {
   "cell_type": "code",
   "execution_count": null,
   "metadata": {},
   "outputs": [],
   "source": []
  },
  {
   "cell_type": "code",
   "execution_count": 70,
   "metadata": {},
   "outputs": [
    {
     "name": "stdout",
     "output_type": "stream",
     "text": [
      "\" @PattyB_14 : Es que no le veo lo \" WOW \" a Beyoncé \" are you blind ?\n",
      "@esangiecarajo es mi spirit animal\n",
      "@esangiecarajo tiene un valentine y no soy yo :/ JA\n",
      "\" @PattyB_14 : “ @arianaasalgado : nunca pierdo un bet , its a fact ” 😂 te debo un drink \" Yes you do ! no lo supero ! jajaja\n",
      "sisterly date = food y tripiarnos a gente en condado ...\n",
      "@claudia_bea103 my life cada vez que me sale el notification ese !!\n",
      "@yandiaflandia fine ! no me creas :/\n",
      "@DaygoLo de nada :) hope u feel better lol\n",
      "ahora lo que queda de tachar del bucket list es bien poco :(\n",
      "@Ohh_Americo it was 2 funny lmfao pero no manches pa ser un sketch de la poli ta muy mal echo hahaha lmao .\n",
      "***\n",
      "Bueno baiiiiiii ya se ba morir mi cell 😩\n",
      "ese retweet tuyo me acaba de joder mi todo lo que conocia como niñez ...\n",
      "@AlvaroRodaSa jaja estas a millones de millas de distancia jajaja\n",
      "@Brendiiss20 vivaaa !! Jajaja ay si pero nimodo ay aver quien aguanta mas tiempo jajajaja #orgulloalmil lmao\n",
      "@Lyanne_DLC yayyyy ! jajaja porque lo traigo desconectado lmao\n",
      "Tipico : te llaman la attencion por \" public display affection \" con tu mejor amigo 😏 ❤ ️\n",
      "@jazlynnrdz cayateee manitaaa si te gustara el twitter no saldrias de aqui hahahaha lmao\n",
      "@JimmyEsqueda hahaha aww yose y fuera ido ala pulga mejor 😒\n",
      "Finally home me voy a dormir ala chingada\n",
      "Nunca fui tu prioridad ni tu centro de attencion 😭\n"
     ]
    }
   ],
   "source": [
    "for item in twit_style_txt['c-0-s'][:10]:\n",
    "    print item\n",
    "    \n",
    "print '***'\n",
    "\n",
    "for item in twit_style_txt['c-0-w'][:10]:\n",
    "    print item"
   ]
  },
  {
   "cell_type": "code",
   "execution_count": null,
   "metadata": {},
   "outputs": [],
   "source": []
  },
  {
   "cell_type": "markdown",
   "metadata": {},
   "source": [
    "## Scratch space"
   ]
  },
  {
   "cell_type": "code",
   "execution_count": 2,
   "metadata": {
    "scrolled": true
   },
   "outputs": [
    {
     "name": "stdout",
     "output_type": "stream",
     "text": [
      "STYLE: sp_lex\n",
      "num utt in style: 66\n",
      "num CM utt: 24\n",
      "num EN utt: 2\n",
      "num SP utt: 37\n",
      "num total : 66\n",
      "percent CM: 0.363636363636\n",
      "percent EN: 0.030303030303\n",
      "percent SP: 0.560606060606\n",
      "\n",
      "c-0-s\t16.67\n",
      "c-0-w\t45.83\n",
      "neither\t29.17\n",
      "s-0\t8.33\n",
      "M-IDX: 0.416297895305\n",
      "I-IDX: 0.227749147339\n",
      "\n",
      "********************\n",
      "\n",
      "STYLE: sp2en\n",
      "num utt in style: 75\n",
      "num CM utt: 35\n",
      "num EN utt: 6\n",
      "num SP utt: 32\n",
      "num total : 75\n",
      "percent CM: 0.466666666667\n",
      "percent EN: 0.08\n",
      "percent SP: 0.426666666667\n",
      "\n",
      "c-0-s\t22.86\n",
      "c-0-w\t25.71\n",
      "c-1-s\t2.86\n",
      "c-1-w\t8.57\n",
      "neither\t5.71\n",
      "s-1\t34.29\n",
      "M-IDX: 0.725280641238\n",
      "I-IDX: 0.329925184359\n",
      "\n",
      "********************\n",
      "\n",
      "STYLE: en2sp\n",
      "num utt in style: 83\n",
      "num CM utt: 37\n",
      "num EN utt: 13\n",
      "num SP utt: 32\n",
      "num total : 83\n",
      "percent CM: 0.44578313253\n",
      "percent EN: 0.156626506024\n",
      "percent SP: 0.385542168675\n",
      "\n",
      "c-0-s\t32.43\n",
      "c-0-w\t24.32\n",
      "c-1-s\t2.70\n",
      "neither\t10.81\n",
      "s-0\t10.81\n",
      "s-1\t18.92\n",
      "M-IDX: 0.710350620574\n",
      "I-IDX: 0.316932935105\n",
      "\n",
      "********************\n",
      "\n",
      "STYLE: en_lex\n",
      "num utt in style: 77\n",
      "num CM utt: 33\n",
      "num EN utt: 14\n",
      "num SP utt: 29\n",
      "num total : 77\n",
      "percent CM: 0.428571428571\n",
      "percent EN: 0.181818181818\n",
      "percent SP: 0.376623376623\n",
      "\n",
      "c-0-s\t12.12\n",
      "c-0-w\t9.09\n",
      "c-1-s\t9.09\n",
      "c-1-w\t15.15\n",
      "neither\t30.30\n",
      "s-0\t9.09\n",
      "s-1\t15.15\n",
      "M-IDX: 0.928808799438\n",
      "I-IDX: 0.281141703964\n",
      "\n",
      "********************\n",
      "\n"
     ]
    }
   ],
   "source": [
    "from src import cm_metrics\n",
    "reload(cm_metrics)\n",
    "\n",
    "filename = './data/auto_social_spdef.tsv'\n",
    "chat2style = './data/chat2style_social_0723.tsv'\n",
    "cocoa_style_txt = cm_metrics.get_style_metrics_cocoa(filename, chat2style)\n",
    "\n",
    "\n",
    "# for item in cocoa_style_txt['en2sp']['s-1'][:10]:\n",
    "#     print item"
   ]
  },
  {
   "cell_type": "code",
   "execution_count": 51,
   "metadata": {},
   "outputs": [
    {
     "name": "stdout",
     "output_type": "stream",
     "text": [
      "que escuela do they attend ?\n"
     ]
    }
   ],
   "source": [
    "for item in cocoa_style_txt['sp2en']['c-1-w'][:10]:\n",
    "    print item"
   ]
  },
  {
   "cell_type": "code",
   "execution_count": null,
   "metadata": {},
   "outputs": [],
   "source": [
    "from src import cm_metrics\n",
    "reload(cm_metrics)\n",
    "\n",
    "filename = './data/manual_18content_fixed.tsv'\n",
    "chat2style = './data/chatid2style.txt'\n",
    "# cocoa_style_txt = cm_metrics.get_style_metrics_cocoa(filename)\n",
    "# filename = './data/manual_18content_spdef.tsv'\n",
    "# cocoa_style_txt = cm_metrics.get_style_metrics_cocoa(filename)\n",
    "# filename = './data/manual_18content.tsv'\n",
    "cocoa_style_txt = cm_metrics.get_style_metrics_cocoa(filename, chat2style)"
   ]
  },
  {
   "cell_type": "code",
   "execution_count": null,
   "metadata": {},
   "outputs": [],
   "source": []
  }
 ],
 "metadata": {
  "kernelspec": {
   "display_name": "Python 2",
   "language": "python",
   "name": "python2"
  },
  "language_info": {
   "codemirror_mode": {
    "name": "ipython",
    "version": 2
   },
   "file_extension": ".py",
   "mimetype": "text/x-python",
   "name": "python",
   "nbconvert_exporter": "python",
   "pygments_lexer": "ipython2",
   "version": "2.7.10"
  }
 },
 "nbformat": 4,
 "nbformat_minor": 2
}
